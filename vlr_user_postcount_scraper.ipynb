{
  "nbformat": 4,
  "nbformat_minor": 0,
  "metadata": {
    "colab": {
      "provenance": []
    },
    "kernelspec": {
      "name": "python3",
      "display_name": "Python 3"
    },
    "language_info": {
      "name": "python"
    }
  },
  "cells": [
    {
      "cell_type": "markdown",
      "source": [
        "**CLICK THE PLAY BUTTON, then SCROLL DOWN**"
      ],
      "metadata": {
        "id": "ac7DW3tpTyVY"
      }
    },
    {
      "cell_type": "code",
      "source": [
        "from bs4 import BeautifulSoup\n",
        "import requests\n",
        "import time\n",
        "import sys\n",
        "from IPython.display import display\n",
        "\n",
        "\n",
        "FORUM_PAGE_ROOT = \"https://www.vlr.gg/threads/?sort=top&page=\"\n",
        "THREAD_ROOT = \"https://www.vlr.gg\"\n",
        "USER_ROOT = \"https://www.vlr.gg/user/\"\n",
        "\n",
        "def get_user_posts(samples):\n",
        "    process_start = time.time()\n",
        "\n",
        "    users = set()\n",
        "    post_links = set()\n",
        "\n",
        "    print(\"Getting pages...\")\n",
        "    for i in range(samples):\n",
        "        page_num = str(i)\n",
        "        link = FORUM_PAGE_ROOT + page_num\n",
        "        soup = BeautifulSoup(requests.get(link).content, features = 'lxml')\n",
        "\n",
        "        post_links = post_links.union(get_posts_from_page(soup))\n",
        "    \n",
        "    print(\"Getting users...\")\n",
        "    for link in post_links:\n",
        "        users = users.union(get_user_names_from_link(link))\n",
        "    \n",
        "    # print(users) \n",
        "\n",
        "    user_posts = {}\n",
        "    total = len(users)\n",
        "    completed = 0\n",
        "    progress_display = display(f\"Progress  {completed}  /  {total}  users\", display_id = True)\n",
        "    \n",
        "    for user in users:\n",
        "        user_posts[user] = get_post_count(user)\n",
        "        # print_ten_highest(user_posts)\n",
        "        completed += 1\n",
        "        progress_display.update(f\"Progress  {completed}  /  {total}  users\")\n",
        "\n",
        "    print_sorted(user_posts)\n",
        "    print(\"Samples : \", samples, \"Time elapsed: \", time.time () - process_start , \"s\")\n",
        "\n",
        "\n",
        "def print_ten_highest(user_posts):\n",
        "    highest = sorted(user_posts, key = lambda x: user_posts[x], reverse = True)\n",
        "    for rank, user in enumerate(highest[0:10]):\n",
        "        print(rank + 1, \" : \", user, \" : \", user_posts[user])\n",
        "\n",
        "def print_sorted(user_posts):\n",
        "    highest = sorted(user_posts, key = lambda x: user_posts[x], reverse = True)\n",
        "    for rank, user in enumerate(highest):\n",
        "        print(rank + 1, \" : \" , user, \" : \", user_posts[user])\n",
        "\n",
        "def get_posts_from_page(soup):\n",
        "    matches = soup.find_all(\"a\", \"thread-item-header-title\")\n",
        "    links = set()\n",
        "    for match in matches:\n",
        "        links.add(THREAD_ROOT + match.get(\"href\"))\n",
        "    \n",
        "    return links\n",
        "\n",
        "\n",
        "\n",
        "def get_user_names_from_link(link):\n",
        "    users = set()\n",
        "    #print(\"MAKING REQUEST FOR \", link)\n",
        "    # print(\"Accessing \", link)\n",
        "    soup = BeautifulSoup(requests.get(link).content, features = 'lxml')\n",
        "    #print(\"GOT SOUP!\")\n",
        "    matches = soup.find_all(\"a\", \"post-header-author\")\n",
        "    \n",
        "    for match in matches:\n",
        "        users.add(match.text.strip())\n",
        "    \n",
        "    return users\n",
        "\n",
        "\n",
        "\n",
        "def get_post_count(user):\n",
        "    link = USER_ROOT + user\n",
        "    # print(\"Accessing \", link)\n",
        "    soup = BeautifulSoup(requests.get(link).content, features = 'lxml')\n",
        "    matches = soup.find_all(\"tr\")\n",
        "\n",
        "    for match in matches:\n",
        "        if \"posts\" in match.text.lower():\n",
        "            posts = match.text.lower().strip()\n",
        "            posts = int(posts.replace(\"Posts\", \"\").replace(\"posts:\", \"\").strip())\n",
        "    return posts\n"
      ],
      "metadata": {
        "id": "4O9Lmj36TrLw"
      },
      "execution_count": 15,
      "outputs": []
    },
    {
      "cell_type": "markdown",
      "source": [
        "Press the play button below, then enter your sample size. Afterwards, wait! It takes around 500 seconds per sample."
      ],
      "metadata": {
        "id": "LM6tcOq8Twb3"
      }
    },
    {
      "cell_type": "code",
      "source": [
        "get_user_posts(int(input(\"Enter a sample size : \")))"
      ],
      "metadata": {
        "colab": {
          "base_uri": "https://localhost:8080/",
          "height": 87
        },
        "id": "N4GT7ApZUK1H",
        "outputId": "eddbcfea-a75b-4b6f-9231-4b11b7d35d52"
      },
      "execution_count": null,
      "outputs": [
        {
          "output_type": "stream",
          "name": "stdout",
          "text": [
            "Enter a sample size : 1\n",
            "Getting pages...\n",
            "Getting users...\n"
          ]
        },
        {
          "output_type": "display_data",
          "data": {
            "text/plain": [
              "'Progress  171  /  1622  users'"
            ],
            "application/vnd.google.colaboratory.intrinsic+json": {
              "type": "string"
            }
          },
          "metadata": {}
        }
      ]
    }
  ]
}